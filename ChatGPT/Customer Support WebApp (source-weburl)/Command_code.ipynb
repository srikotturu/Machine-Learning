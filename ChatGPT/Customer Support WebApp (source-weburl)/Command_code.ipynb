{
  "nbformat": 4,
  "nbformat_minor": 0,
  "metadata": {
    "colab": {
      "provenance": [],
      "authorship_tag": "ABX9TyNLKp5dRpdaoOUPsue5d/v+"
    },
    "kernelspec": {
      "name": "python3",
      "display_name": "Python 3"
    },
    "language_info": {
      "name": "python"
    }
  },
  "cells": [
    {
      "cell_type": "markdown",
      "source": [
        "## Step 1: Import necessary libraries and modules"
      ],
      "metadata": {
        "id": "KAgU_ArNLliZ"
      }
    },
    {
      "cell_type": "code",
      "source": [
        "!pip install tiktoken openai"
      ],
      "metadata": {
        "colab": {
          "base_uri": "https://localhost:8080/"
        },
        "id": "DfLdpr9ev9k3",
        "outputId": "bf442fe8-b239-447f-dad9-adabc83d8aab"
      },
      "execution_count": 1,
      "outputs": [
        {
          "output_type": "stream",
          "name": "stdout",
          "text": [
            "Collecting tiktoken\n",
            "  Downloading tiktoken-0.5.1-cp310-cp310-manylinux_2_17_x86_64.manylinux2014_x86_64.whl (2.0 MB)\n",
            "\u001b[2K     \u001b[90m━━━━━━━━━━━━━━━━━━━━━━━━━━━━━━━━━━━━━━━━\u001b[0m \u001b[32m2.0/2.0 MB\u001b[0m \u001b[31m8.7 MB/s\u001b[0m eta \u001b[36m0:00:00\u001b[0m\n",
            "\u001b[?25hCollecting openai\n",
            "  Downloading openai-0.28.0-py3-none-any.whl (76 kB)\n",
            "\u001b[2K     \u001b[90m━━━━━━━━━━━━━━━━━━━━━━━━━━━━━━━━━━━━━━━━\u001b[0m \u001b[32m76.5/76.5 kB\u001b[0m \u001b[31m7.5 MB/s\u001b[0m eta \u001b[36m0:00:00\u001b[0m\n",
            "\u001b[?25hRequirement already satisfied: regex>=2022.1.18 in /usr/local/lib/python3.10/dist-packages (from tiktoken) (2023.6.3)\n",
            "Requirement already satisfied: requests>=2.26.0 in /usr/local/lib/python3.10/dist-packages (from tiktoken) (2.31.0)\n",
            "Requirement already satisfied: tqdm in /usr/local/lib/python3.10/dist-packages (from openai) (4.66.1)\n",
            "Requirement already satisfied: aiohttp in /usr/local/lib/python3.10/dist-packages (from openai) (3.8.5)\n",
            "Requirement already satisfied: charset-normalizer<4,>=2 in /usr/local/lib/python3.10/dist-packages (from requests>=2.26.0->tiktoken) (3.2.0)\n",
            "Requirement already satisfied: idna<4,>=2.5 in /usr/local/lib/python3.10/dist-packages (from requests>=2.26.0->tiktoken) (3.4)\n",
            "Requirement already satisfied: urllib3<3,>=1.21.1 in /usr/local/lib/python3.10/dist-packages (from requests>=2.26.0->tiktoken) (2.0.4)\n",
            "Requirement already satisfied: certifi>=2017.4.17 in /usr/local/lib/python3.10/dist-packages (from requests>=2.26.0->tiktoken) (2023.7.22)\n",
            "Requirement already satisfied: attrs>=17.3.0 in /usr/local/lib/python3.10/dist-packages (from aiohttp->openai) (23.1.0)\n",
            "Requirement already satisfied: multidict<7.0,>=4.5 in /usr/local/lib/python3.10/dist-packages (from aiohttp->openai) (6.0.4)\n",
            "Requirement already satisfied: async-timeout<5.0,>=4.0.0a3 in /usr/local/lib/python3.10/dist-packages (from aiohttp->openai) (4.0.3)\n",
            "Requirement already satisfied: yarl<2.0,>=1.0 in /usr/local/lib/python3.10/dist-packages (from aiohttp->openai) (1.9.2)\n",
            "Requirement already satisfied: frozenlist>=1.1.1 in /usr/local/lib/python3.10/dist-packages (from aiohttp->openai) (1.4.0)\n",
            "Requirement already satisfied: aiosignal>=1.1.2 in /usr/local/lib/python3.10/dist-packages (from aiohttp->openai) (1.3.1)\n",
            "Installing collected packages: tiktoken, openai\n",
            "Successfully installed openai-0.28.0 tiktoken-0.5.1\n"
          ]
        }
      ]
    },
    {
      "cell_type": "code",
      "source": [
        "import requests\n",
        "import re\n",
        "import urllib.request\n",
        "from bs4 import BeautifulSoup\n",
        "from collections import deque\n",
        "from html.parser import HTMLParser\n",
        "from urllib.parse import urlparse\n",
        "import os\n",
        "import pandas as pd\n",
        "import tiktoken\n",
        "import openai\n",
        "import numpy as np\n",
        "from openai.embeddings_utils import distances_from_embeddings, cosine_similarity\n",
        "from ast import literal_eval"
      ],
      "metadata": {
        "id": "R3MZDt4mKR71"
      },
      "execution_count": 2,
      "outputs": []
    },
    {
      "cell_type": "markdown",
      "source": [
        "## Step 2: Define a regular expression pattern for matching URLs and create a class for parsing HTML\n"
      ],
      "metadata": {
        "id": "D_enpU3TLZLF"
      }
    },
    {
      "cell_type": "code",
      "source": [
        "# Regex pattern to match a URL\n",
        "HTTP_URL_PATTERN = r'^http[s]*://.+'\n",
        "\n",
        "domain = \"x.ai\" # <- put your domain to be crawled\n",
        "full_url = \"https://x.ai/\" # <- put your domain to be crawled with https or http\n",
        "\n",
        "# Create a class to parse the HTML and get the hyperlinks\n",
        "class HyperlinkParser(HTMLParser):\n",
        "    def __init__(self):\n",
        "        super().__init__()\n",
        "        # Create a list to store the hyperlinks\n",
        "        self.hyperlinks = []\n",
        "\n",
        "    # Override the HTMLParser's handle_starttag method to get the hyperlinks\n",
        "    def handle_starttag(self, tag, attrs):\n",
        "        attrs = dict(attrs)\n",
        "\n",
        "        # If the tag is an anchor tag and it has an href attribute, add the href attribute to the list of hyperlinks\n",
        "        if tag == \"a\" and \"href\" in attrs:\n",
        "            self.hyperlinks.append(attrs[\"href\"])"
      ],
      "metadata": {
        "id": "jB2cEv5IL3Ue"
      },
      "execution_count": 3,
      "outputs": []
    },
    {
      "cell_type": "markdown",
      "source": [
        "## Step 3: Define functions to get hyperlinks from a URL and filter by domain\n"
      ],
      "metadata": {
        "id": "OERWvxErMAL5"
      }
    },
    {
      "cell_type": "code",
      "source": [
        "# Function to get the hyperlinks from a URL\n",
        "def get_hyperlinks(url):\n",
        "\n",
        "    # Try to open the URL and read the HTML\n",
        "    try:\n",
        "        # Open the URL and read the HTML\n",
        "        with urllib.request.urlopen(url) as response:\n",
        "\n",
        "            # If the response is not HTML, return an empty list\n",
        "            if not response.info().get('Content-Type').startswith(\"text/html\"):\n",
        "                return []\n",
        "\n",
        "            # Decode the HTML\n",
        "            html = response.read().decode('utf-8')\n",
        "    except Exception as e:\n",
        "        print(e)\n",
        "        return []\n",
        "\n",
        "    # Create the HTML Parser and then Parse the HTML to get hyperlinks\n",
        "    parser = HyperlinkParser()\n",
        "    parser.feed(html)\n",
        "\n",
        "    return parser.hyperlinks"
      ],
      "metadata": {
        "id": "hF9x0QVbMDwL"
      },
      "execution_count": 4,
      "outputs": []
    },
    {
      "cell_type": "code",
      "source": [
        "# Function to get the hyperlinks from a URL that are within the same domain\n",
        "def get_domain_hyperlinks(local_domain, url):\n",
        "    clean_links = []\n",
        "    for link in set(get_hyperlinks(url)):\n",
        "        clean_link = None\n",
        "\n",
        "        # If the link is a URL, check if it is within the same domain\n",
        "        if re.search(HTTP_URL_PATTERN, link):\n",
        "            # Parse the URL and check if the domain is the same\n",
        "            url_obj = urlparse(link)\n",
        "            if url_obj.netloc == local_domain:\n",
        "                clean_link = link\n",
        "\n",
        "        # If the link is not a URL, check if it is a relative link\n",
        "        else:\n",
        "            if link.startswith(\"/\"):\n",
        "                link = link[1:]\n",
        "            elif link.startswith(\"#\") or link.startswith(\"mailto:\"):\n",
        "                continue\n",
        "            clean_link = \"https://\" + local_domain + \"/\" + link\n",
        "\n",
        "        if clean_link is not None:\n",
        "            if clean_link.endswith(\"/\"):\n",
        "                clean_link = clean_link[:-1]\n",
        "            clean_links.append(clean_link)\n",
        "\n",
        "    # Return the list of hyperlinks that are within the same domain\n",
        "    return list(set(clean_links))"
      ],
      "metadata": {
        "id": "3gsLp84GMZH6"
      },
      "execution_count": 5,
      "outputs": []
    },
    {
      "cell_type": "markdown",
      "source": [
        "## Step 4: Create a web crawler to scrape and store text content from the provided URL and its hyperlinks\n"
      ],
      "metadata": {
        "id": "Vya_RQEdMajD"
      }
    },
    {
      "cell_type": "code",
      "source": [
        "def crawl(url):\n",
        "    # Parse the URL and get the domain\n",
        "    local_domain = urlparse(url).netloc\n",
        "\n",
        "    # Create a queue to store the URLs to crawl\n",
        "    queue = deque([url])\n",
        "\n",
        "    # Create a set to store the URLs that have already been seen (no duplicates)\n",
        "    seen = set([url])\n",
        "\n",
        "    # Create a directory to store the text files\n",
        "    if not os.path.exists(\"text/\"):\n",
        "            os.mkdir(\"text/\")\n",
        "\n",
        "    if not os.path.exists(\"text/\"+local_domain+\"/\"):\n",
        "            os.mkdir(\"text/\" + local_domain + \"/\")\n",
        "\n",
        "    # Create a directory to store the csv files\n",
        "    if not os.path.exists(\"processed\"):\n",
        "            os.mkdir(\"processed\")\n",
        "\n",
        "    # While the queue is not empty, continue crawling\n",
        "    while queue:\n",
        "\n",
        "        # Get the next URL from the queue\n",
        "        url = queue.pop()\n",
        "        print(url) # for debugging and to see the progress\n",
        "\n",
        "        # Save text from the url to a <url>.txt file\n",
        "        with open('text/'+local_domain+'/'+url[8:].replace(\"/\", \"_\") + \".txt\", \"w\", encoding=\"UTF-8\") as f:\n",
        "\n",
        "            # Get the text from the URL using BeautifulSoup\n",
        "            soup = BeautifulSoup(requests.get(url).text, \"html.parser\")\n",
        "\n",
        "            # Get the text but remove the tags\n",
        "            text = soup.get_text()\n",
        "\n",
        "            # If the crawler gets to a page that requires JavaScript, it will stop the crawl\n",
        "            if (\"You need to enable JavaScript to run this app.\" in text):\n",
        "                print(\"Unable to parse page \" + url + \" due to JavaScript being required\")\n",
        "\n",
        "            # Otherwise, write the text to the file in the text directory\n",
        "            f.write(text)\n",
        "\n",
        "        # Get the hyperlinks from the URL and add them to the queue\n",
        "        for link in get_domain_hyperlinks(local_domain, url):\n",
        "            if link not in seen:\n",
        "                queue.append(link)\n",
        "                seen.add(link)\n",
        "\n",
        "crawl(full_url)"
      ],
      "metadata": {
        "colab": {
          "base_uri": "https://localhost:8080/"
        },
        "id": "MA444qKRMdrY",
        "outputId": "c4001f01-3e9e-4a60-a5b9-e61897345688"
      },
      "execution_count": 6,
      "outputs": [
        {
          "output_type": "stream",
          "name": "stdout",
          "text": [
            "https://x.ai/\n",
            "HTTP Error 403: Forbidden\n"
          ]
        }
      ]
    },
    {
      "cell_type": "markdown",
      "source": [
        "## Step 5: Define a function to remove newlines from a Series\n"
      ],
      "metadata": {
        "id": "t8y2dIISNv5D"
      }
    },
    {
      "cell_type": "code",
      "source": [
        "def remove_newlines(serie):\n",
        "    serie = serie.str.replace('\\n', ' ')\n",
        "    serie = serie.str.replace('\\\\n', ' ')\n",
        "    serie = serie.str.replace('  ', ' ')\n",
        "    serie = serie.str.replace('  ', ' ')\n",
        "    return serie"
      ],
      "metadata": {
        "id": "TQvb-6d9NzFL"
      },
      "execution_count": 7,
      "outputs": []
    },
    {
      "cell_type": "markdown",
      "source": [
        "## Step 6: Get text content from crawled pages, clean it, and create a DataFrame\n"
      ],
      "metadata": {
        "id": "hReTnHVrN7aQ"
      }
    },
    {
      "cell_type": "code",
      "source": [
        "# Create a list to store the text files\n",
        "texts=[]\n",
        "\n",
        "# Get all the text files in the text directory\n",
        "for file in os.listdir(\"text/\" + domain + \"/\"):\n",
        "\n",
        "    # Open the file and read the text\n",
        "    with open(\"text/\" + domain + \"/\" + file, \"r\", encoding=\"UTF-8\") as f:\n",
        "        text = f.read()\n",
        "\n",
        "        # Omit the first 11 lines and the last 4 lines, then replace -, _, and #update with spaces.\n",
        "        texts.append((file[11:-4].replace('-',' ').replace('_', ' ').replace('#update',''), text))\n",
        "\n",
        "# Create a dataframe from the list of texts\n",
        "df = pd.DataFrame(texts, columns = ['fname', 'text'])\n",
        "\n",
        "# Set the text column to be the raw text with the newlines removed\n",
        "df['text'] = df.fname + \". \" + remove_newlines(df.text)\n",
        "df.to_csv('processed/scraped.csv')\n",
        "df.head()"
      ],
      "metadata": {
        "colab": {
          "base_uri": "https://localhost:8080/",
          "height": 115
        },
        "id": "HCekbKSnOBbD",
        "outputId": "d64827d5-bf8e-4e36-c3e7-411846415f7e"
      },
      "execution_count": 8,
      "outputs": [
        {
          "output_type": "stream",
          "name": "stderr",
          "text": [
            "<ipython-input-7-429202555403>:3: FutureWarning: The default value of regex will change from True to False in a future version.\n",
            "  serie = serie.str.replace('\\\\n', ' ')\n"
          ]
        },
        {
          "output_type": "execute_result",
          "data": {
            "text/plain": [
              "  fname                                               text\n",
              "0        . xAI: Understand the UniverseUnderstand the U..."
            ],
            "text/html": [
              "\n",
              "  <div id=\"df-ee444ec6-d7be-470a-9a49-c20b8925bb70\" class=\"colab-df-container\">\n",
              "    <div>\n",
              "<style scoped>\n",
              "    .dataframe tbody tr th:only-of-type {\n",
              "        vertical-align: middle;\n",
              "    }\n",
              "\n",
              "    .dataframe tbody tr th {\n",
              "        vertical-align: top;\n",
              "    }\n",
              "\n",
              "    .dataframe thead th {\n",
              "        text-align: right;\n",
              "    }\n",
              "</style>\n",
              "<table border=\"1\" class=\"dataframe\">\n",
              "  <thead>\n",
              "    <tr style=\"text-align: right;\">\n",
              "      <th></th>\n",
              "      <th>fname</th>\n",
              "      <th>text</th>\n",
              "    </tr>\n",
              "  </thead>\n",
              "  <tbody>\n",
              "    <tr>\n",
              "      <th>0</th>\n",
              "      <td></td>\n",
              "      <td>. xAI: Understand the UniverseUnderstand the U...</td>\n",
              "    </tr>\n",
              "  </tbody>\n",
              "</table>\n",
              "</div>\n",
              "    <div class=\"colab-df-buttons\">\n",
              "\n",
              "  <div class=\"colab-df-container\">\n",
              "    <button class=\"colab-df-convert\" onclick=\"convertToInteractive('df-ee444ec6-d7be-470a-9a49-c20b8925bb70')\"\n",
              "            title=\"Convert this dataframe to an interactive table.\"\n",
              "            style=\"display:none;\">\n",
              "\n",
              "  <svg xmlns=\"http://www.w3.org/2000/svg\" height=\"24px\" viewBox=\"0 -960 960 960\">\n",
              "    <path d=\"M120-120v-720h720v720H120Zm60-500h600v-160H180v160Zm220 220h160v-160H400v160Zm0 220h160v-160H400v160ZM180-400h160v-160H180v160Zm440 0h160v-160H620v160ZM180-180h160v-160H180v160Zm440 0h160v-160H620v160Z\"/>\n",
              "  </svg>\n",
              "    </button>\n",
              "\n",
              "  <style>\n",
              "    .colab-df-container {\n",
              "      display:flex;\n",
              "      gap: 12px;\n",
              "    }\n",
              "\n",
              "    .colab-df-convert {\n",
              "      background-color: #E8F0FE;\n",
              "      border: none;\n",
              "      border-radius: 50%;\n",
              "      cursor: pointer;\n",
              "      display: none;\n",
              "      fill: #1967D2;\n",
              "      height: 32px;\n",
              "      padding: 0 0 0 0;\n",
              "      width: 32px;\n",
              "    }\n",
              "\n",
              "    .colab-df-convert:hover {\n",
              "      background-color: #E2EBFA;\n",
              "      box-shadow: 0px 1px 2px rgba(60, 64, 67, 0.3), 0px 1px 3px 1px rgba(60, 64, 67, 0.15);\n",
              "      fill: #174EA6;\n",
              "    }\n",
              "\n",
              "    .colab-df-buttons div {\n",
              "      margin-bottom: 4px;\n",
              "    }\n",
              "\n",
              "    [theme=dark] .colab-df-convert {\n",
              "      background-color: #3B4455;\n",
              "      fill: #D2E3FC;\n",
              "    }\n",
              "\n",
              "    [theme=dark] .colab-df-convert:hover {\n",
              "      background-color: #434B5C;\n",
              "      box-shadow: 0px 1px 3px 1px rgba(0, 0, 0, 0.15);\n",
              "      filter: drop-shadow(0px 1px 2px rgba(0, 0, 0, 0.3));\n",
              "      fill: #FFFFFF;\n",
              "    }\n",
              "  </style>\n",
              "\n",
              "    <script>\n",
              "      const buttonEl =\n",
              "        document.querySelector('#df-ee444ec6-d7be-470a-9a49-c20b8925bb70 button.colab-df-convert');\n",
              "      buttonEl.style.display =\n",
              "        google.colab.kernel.accessAllowed ? 'block' : 'none';\n",
              "\n",
              "      async function convertToInteractive(key) {\n",
              "        const element = document.querySelector('#df-ee444ec6-d7be-470a-9a49-c20b8925bb70');\n",
              "        const dataTable =\n",
              "          await google.colab.kernel.invokeFunction('convertToInteractive',\n",
              "                                                    [key], {});\n",
              "        if (!dataTable) return;\n",
              "\n",
              "        const docLinkHtml = 'Like what you see? Visit the ' +\n",
              "          '<a target=\"_blank\" href=https://colab.research.google.com/notebooks/data_table.ipynb>data table notebook</a>'\n",
              "          + ' to learn more about interactive tables.';\n",
              "        element.innerHTML = '';\n",
              "        dataTable['output_type'] = 'display_data';\n",
              "        await google.colab.output.renderOutput(dataTable, element);\n",
              "        const docLink = document.createElement('div');\n",
              "        docLink.innerHTML = docLinkHtml;\n",
              "        element.appendChild(docLink);\n",
              "      }\n",
              "    </script>\n",
              "  </div>\n",
              "\n",
              "    </div>\n",
              "  </div>\n"
            ]
          },
          "metadata": {},
          "execution_count": 8
        }
      ]
    },
    {
      "cell_type": "markdown",
      "source": [
        "## Step 7: Tokenize text and visualize token distribution\n"
      ],
      "metadata": {
        "id": "ph27jpEdOPKa"
      }
    },
    {
      "cell_type": "code",
      "source": [
        "import tiktoken\n",
        "\n",
        "# Load the cl100k_base tokenizer which is designed to work with the ada-002 model\n",
        "tokenizer = tiktoken.get_encoding(\"cl100k_base\")\n",
        "\n",
        "df = pd.read_csv('processed/scraped.csv', index_col=0)\n",
        "df.columns = ['title', 'text']\n",
        "\n",
        "# Tokenize the text and save the number of tokens to a new column\n",
        "df['n_tokens'] = df.text.apply(lambda x: len(tokenizer.encode(x)))\n",
        "\n",
        "# Visualize the distribution of the number of tokens per row using a histogram\n",
        "df.n_tokens.hist()"
      ],
      "metadata": {
        "colab": {
          "base_uri": "https://localhost:8080/",
          "height": 447
        },
        "id": "RY0iGYv_OWv3",
        "outputId": "af18cfcd-41ee-48f0-f4f3-20157d62b1bb"
      },
      "execution_count": 9,
      "outputs": [
        {
          "output_type": "execute_result",
          "data": {
            "text/plain": [
              "<Axes: >"
            ]
          },
          "metadata": {},
          "execution_count": 9
        },
        {
          "output_type": "display_data",
          "data": {
            "text/plain": [
              "<Figure size 640x480 with 1 Axes>"
            ],
            "image/png": "[encoded data removed]"
          },
          "metadata": {}
        }
      ]
    },
    {
      "cell_type": "markdown",
      "source": [
        "## Step 8: Define a maximum number of tokens, split text into chunks if needed\n"
      ],
      "metadata": {
        "id": "pvfwii_JOcv-"
      }
    },
    {
      "cell_type": "code",
      "source": [
        "max_tokens = 500\n",
        "\n",
        "# Function to split the text into chunks of a maximum number of tokens\n",
        "def split_into_many(text, max_tokens = max_tokens):\n",
        "\n",
        "    # Split the text into sentences\n",
        "    sentences = text.split('. ')\n",
        "\n",
        "    # Get the number of tokens for each sentence\n",
        "    n_tokens = [len(tokenizer.encode(\" \" + sentence)) for sentence in sentences]\n",
        "\n",
        "    chunks = []\n",
        "    tokens_so_far = 0\n",
        "    chunk = []\n",
        "\n",
        "    # Loop through the sentences and tokens joined together in a tuple\n",
        "    for sentence, token in zip(sentences, n_tokens):\n",
        "\n",
        "        # If the number of tokens so far plus the number of tokens in the current sentence is greater\n",
        "        # than the max number of tokens, then add the chunk to the list of chunks and reset\n",
        "        # the chunk and tokens so far\n",
        "        if tokens_so_far + token > max_tokens:\n",
        "            chunks.append(\". \".join(chunk) + \".\")\n",
        "            chunk = []\n",
        "            tokens_so_far = 0\n",
        "\n",
        "        # If the number of tokens in the current sentence is greater than the max number of\n",
        "        # tokens, go to the next sentence\n",
        "        if token > max_tokens:\n",
        "            continue\n",
        "\n",
        "        # Otherwise, add the sentence to the chunk and add the number of tokens to the total\n",
        "        chunk.append(sentence)\n",
        "        tokens_so_far += token + 1\n",
        "\n",
        "    return chunks\n",
        "\n",
        "\n",
        "shortened = []\n",
        "\n",
        "# Loop through the dataframe\n",
        "for row in df.iterrows():\n",
        "\n",
        "    # If the text is None, go to the next row\n",
        "    if row[1]['text'] is None:\n",
        "        continue\n",
        "\n",
        "    # If the number of tokens is greater than the max number of tokens, split the text into chunks\n",
        "    if row[1]['n_tokens'] > max_tokens:\n",
        "        shortened += split_into_many(row[1]['text'])\n",
        "\n",
        "    # Otherwise, add the text to the list of shortened texts\n",
        "    else:\n",
        "        shortened.append( row[1]['text'] )"
      ],
      "metadata": {
        "id": "PB3a_YKWOfvJ"
      },
      "execution_count": 10,
      "outputs": []
    },
    {
      "cell_type": "markdown",
      "source": [
        "## Step 9: Visualize token distribution after splitting\n"
      ],
      "metadata": {
        "id": "FgkYRDXGOkuh"
      }
    },
    {
      "cell_type": "code",
      "source": [
        "import openai\n",
        "api_key=\"Your-API-Key\"\n",
        "openai.api_key = api_key"
      ],
      "metadata": {
        "id": "jwfmmE5gsJPn"
      },
      "execution_count": 11,
      "outputs": []
    },
    {
      "cell_type": "code",
      "source": [
        "import pandas as pd\n",
        "\n",
        "df = pd.DataFrame(shortened, columns = ['text'])\n",
        "df['n_tokens'] = df.text.apply(lambda x: len(tokenizer.encode(x)))\n",
        "df.n_tokens.hist()"
      ],
      "metadata": {
        "colab": {
          "base_uri": "https://localhost:8080/",
          "height": 447
        },
        "id": "fliQ0I8oOn-6",
        "outputId": "c9ffcb27-129c-470a-a291-cc3297fd1c73"
      },
      "execution_count": 12,
      "outputs": [
        {
          "output_type": "execute_result",
          "data": {
            "text/plain": [
              "<Axes: >"
            ]
          },
          "metadata": {},
          "execution_count": 12
        },
        {
          "output_type": "display_data",
          "data": {
            "text/plain": [
              "<Figure size 640x480 with 1 Axes>"
            ],
            "image/png": "[encoded data removed]"
          },
          "metadata": {}
        }
      ]
    },
    {
      "cell_type": "markdown",
      "source": [
        "## Step 10: Generate embeddings for the text content\n"
      ],
      "metadata": {
        "id": "74TnxOyWOvdd"
      }
    },
    {
      "cell_type": "code",
      "source": [
        "df['embeddings'] = df.text.apply(lambda x: openai.Embedding.create(input=x, engine='text-embedding-ada-002')['data'][0]['embedding'])\n",
        "df.to_csv('processed/embeddings.csv')\n",
        "df.head()"
      ],
      "metadata": {
        "colab": {
          "base_uri": "https://localhost:8080/",
          "height": 81
        },
        "id": "sEwLdoeUOzwc",
        "outputId": "aa991e93-2695-46e3-e35b-b0acd94eded9"
      },
      "execution_count": 13,
      "outputs": [
        {
          "output_type": "execute_result",
          "data": {
            "text/plain": [
              "                                                text  n_tokens  \\\n",
              "0  . xAI: Understand the UniverseUnderstand the U...       356   \n",
              "\n",
              "                                          embeddings  \n",
              "0  [0.02342619001865387, -0.02619026042521, 0.008...  "
            ],
            "text/html": [
              "\n",
              "  <div id=\"df-45e7c70f-97ef-4755-adf0-69f0b3c0c81f\" class=\"colab-df-container\">\n",
              "    <div>\n",
              "<style scoped>\n",
              "    .dataframe tbody tr th:only-of-type {\n",
              "        vertical-align: middle;\n",
              "    }\n",
              "\n",
              "    .dataframe tbody tr th {\n",
              "        vertical-align: top;\n",
              "    }\n",
              "\n",
              "    .dataframe thead th {\n",
              "        text-align: right;\n",
              "    }\n",
              "</style>\n",
              "<table border=\"1\" class=\"dataframe\">\n",
              "  <thead>\n",
              "    <tr style=\"text-align: right;\">\n",
              "      <th></th>\n",
              "      <th>text</th>\n",
              "      <th>n_tokens</th>\n",
              "      <th>embeddings</th>\n",
              "    </tr>\n",
              "  </thead>\n",
              "  <tbody>\n",
              "    <tr>\n",
              "      <th>0</th>\n",
              "      <td>. xAI: Understand the UniverseUnderstand the U...</td>\n",
              "      <td>356</td>\n",
              "      <td>[0.02342619001865387, -0.02619026042521, 0.008...</td>\n",
              "    </tr>\n",
              "  </tbody>\n",
              "</table>\n",
              "</div>\n",
              "    <div class=\"colab-df-buttons\">\n",
              "\n",
              "  <div class=\"colab-df-container\">\n",
              "    <button class=\"colab-df-convert\" onclick=\"convertToInteractive('df-45e7c70f-97ef-4755-adf0-69f0b3c0c81f')\"\n",
              "            title=\"Convert this dataframe to an interactive table.\"\n",
              "            style=\"display:none;\">\n",
              "\n",
              "  <svg xmlns=\"http://www.w3.org/2000/svg\" height=\"24px\" viewBox=\"0 -960 960 960\">\n",
              "    <path d=\"M120-120v-720h720v720H120Zm60-500h600v-160H180v160Zm220 220h160v-160H400v160Zm0 220h160v-160H400v160ZM180-400h160v-160H180v160Zm440 0h160v-160H620v160ZM180-180h160v-160H180v160Zm440 0h160v-160H620v160Z\"/>\n",
              "  </svg>\n",
              "    </button>\n",
              "\n",
              "  <style>\n",
              "    .colab-df-container {\n",
              "      display:flex;\n",
              "      gap: 12px;\n",
              "    }\n",
              "\n",
              "    .colab-df-convert {\n",
              "      background-color: #E8F0FE;\n",
              "      border: none;\n",
              "      border-radius: 50%;\n",
              "      cursor: pointer;\n",
              "      display: none;\n",
              "      fill: #1967D2;\n",
              "      height: 32px;\n",
              "      padding: 0 0 0 0;\n",
              "      width: 32px;\n",
              "    }\n",
              "\n",
              "    .colab-df-convert:hover {\n",
              "      background-color: #E2EBFA;\n",
              "      box-shadow: 0px 1px 2px rgba(60, 64, 67, 0.3), 0px 1px 3px 1px rgba(60, 64, 67, 0.15);\n",
              "      fill: #174EA6;\n",
              "    }\n",
              "\n",
              "    .colab-df-buttons div {\n",
              "      margin-bottom: 4px;\n",
              "    }\n",
              "\n",
              "    [theme=dark] .colab-df-convert {\n",
              "      background-color: #3B4455;\n",
              "      fill: #D2E3FC;\n",
              "    }\n",
              "\n",
              "    [theme=dark] .colab-df-convert:hover {\n",
              "      background-color: #434B5C;\n",
              "      box-shadow: 0px 1px 3px 1px rgba(0, 0, 0, 0.15);\n",
              "      filter: drop-shadow(0px 1px 2px rgba(0, 0, 0, 0.3));\n",
              "      fill: #FFFFFF;\n",
              "    }\n",
              "  </style>\n",
              "\n",
              "    <script>\n",
              "      const buttonEl =\n",
              "        document.querySelector('#df-45e7c70f-97ef-4755-adf0-69f0b3c0c81f button.colab-df-convert');\n",
              "      buttonEl.style.display =\n",
              "        google.colab.kernel.accessAllowed ? 'block' : 'none';\n",
              "\n",
              "      async function convertToInteractive(key) {\n",
              "        const element = document.querySelector('#df-45e7c70f-97ef-4755-adf0-69f0b3c0c81f');\n",
              "        const dataTable =\n",
              "          await google.colab.kernel.invokeFunction('convertToInteractive',\n",
              "                                                    [key], {});\n",
              "        if (!dataTable) return;\n",
              "\n",
              "        const docLinkHtml = 'Like what you see? Visit the ' +\n",
              "          '<a target=\"_blank\" href=https://colab.research.google.com/notebooks/data_table.ipynb>data table notebook</a>'\n",
              "          + ' to learn more about interactive tables.';\n",
              "        element.innerHTML = '';\n",
              "        dataTable['output_type'] = 'display_data';\n",
              "        await google.colab.output.renderOutput(dataTable, element);\n",
              "        const docLink = document.createElement('div');\n",
              "        docLink.innerHTML = docLinkHtml;\n",
              "        element.appendChild(docLink);\n",
              "      }\n",
              "    </script>\n",
              "  </div>\n",
              "\n",
              "    </div>\n",
              "  </div>\n"
            ]
          },
          "metadata": {},
          "execution_count": 13
        }
      ]
    },
    {
      "cell_type": "markdown",
      "source": [
        "## Step 11: Load embeddings and prepare them for processing\n"
      ],
      "metadata": {
        "id": "a1y6v1K6Vf2g"
      }
    },
    {
      "cell_type": "code",
      "source": [
        "df['embeddings'] = df.text.apply(lambda x: openai.Embedding.create(input=x, engine='text-embedding-ada-002')['data'][0]['embedding'])\n",
        "\n",
        "df.to_csv('processed/embeddings.csv')\n",
        "df.head()"
      ],
      "metadata": {
        "id": "DcR5i23hVkUM",
        "colab": {
          "base_uri": "https://localhost:8080/",
          "height": 81
        },
        "outputId": "73be98ee-8142-4b4c-c831-b654c0521ddb"
      },
      "execution_count": 14,
      "outputs": [
        {
          "output_type": "execute_result",
          "data": {
            "text/plain": [
              "                                                text  n_tokens  \\\n",
              "0  . xAI: Understand the UniverseUnderstand the U...       356   \n",
              "\n",
              "                                          embeddings  \n",
              "0  [0.02359621785581112, -0.026222579181194305, 0...  "
            ],
            "text/html": [
              "\n",
              "  <div id=\"df-2f476c9e-1d9b-4e39-90b0-6624a34e17a8\" class=\"colab-df-container\">\n",
              "    <div>\n",
              "<style scoped>\n",
              "    .dataframe tbody tr th:only-of-type {\n",
              "        vertical-align: middle;\n",
              "    }\n",
              "\n",
              "    .dataframe tbody tr th {\n",
              "        vertical-align: top;\n",
              "    }\n",
              "\n",
              "    .dataframe thead th {\n",
              "        text-align: right;\n",
              "    }\n",
              "</style>\n",
              "<table border=\"1\" class=\"dataframe\">\n",
              "  <thead>\n",
              "    <tr style=\"text-align: right;\">\n",
              "      <th></th>\n",
              "      <th>text</th>\n",
              "      <th>n_tokens</th>\n",
              "      <th>embeddings</th>\n",
              "    </tr>\n",
              "  </thead>\n",
              "  <tbody>\n",
              "    <tr>\n",
              "      <th>0</th>\n",
              "      <td>. xAI: Understand the UniverseUnderstand the U...</td>\n",
              "      <td>356</td>\n",
              "      <td>[0.02359621785581112, -0.026222579181194305, 0...</td>\n",
              "    </tr>\n",
              "  </tbody>\n",
              "</table>\n",
              "</div>\n",
              "    <div class=\"colab-df-buttons\">\n",
              "\n",
              "  <div class=\"colab-df-container\">\n",
              "    <button class=\"colab-df-convert\" onclick=\"convertToInteractive('df-2f476c9e-1d9b-4e39-90b0-6624a34e17a8')\"\n",
              "            title=\"Convert this dataframe to an interactive table.\"\n",
              "            style=\"display:none;\">\n",
              "\n",
              "  <svg xmlns=\"http://www.w3.org/2000/svg\" height=\"24px\" viewBox=\"0 -960 960 960\">\n",
              "    <path d=\"M120-120v-720h720v720H120Zm60-500h600v-160H180v160Zm220 220h160v-160H400v160Zm0 220h160v-160H400v160ZM180-400h160v-160H180v160Zm440 0h160v-160H620v160ZM180-180h160v-160H180v160Zm440 0h160v-160H620v160Z\"/>\n",
              "  </svg>\n",
              "    </button>\n",
              "\n",
              "  <style>\n",
              "    .colab-df-container {\n",
              "      display:flex;\n",
              "      gap: 12px;\n",
              "    }\n",
              "\n",
              "    .colab-df-convert {\n",
              "      background-color: #E8F0FE;\n",
              "      border: none;\n",
              "      border-radius: 50%;\n",
              "      cursor: pointer;\n",
              "      display: none;\n",
              "      fill: #1967D2;\n",
              "      height: 32px;\n",
              "      padding: 0 0 0 0;\n",
              "      width: 32px;\n",
              "    }\n",
              "\n",
              "    .colab-df-convert:hover {\n",
              "      background-color: #E2EBFA;\n",
              "      box-shadow: 0px 1px 2px rgba(60, 64, 67, 0.3), 0px 1px 3px 1px rgba(60, 64, 67, 0.15);\n",
              "      fill: #174EA6;\n",
              "    }\n",
              "\n",
              "    .colab-df-buttons div {\n",
              "      margin-bottom: 4px;\n",
              "    }\n",
              "\n",
              "    [theme=dark] .colab-df-convert {\n",
              "      background-color: #3B4455;\n",
              "      fill: #D2E3FC;\n",
              "    }\n",
              "\n",
              "    [theme=dark] .colab-df-convert:hover {\n",
              "      background-color: #434B5C;\n",
              "      box-shadow: 0px 1px 3px 1px rgba(0, 0, 0, 0.15);\n",
              "      filter: drop-shadow(0px 1px 2px rgba(0, 0, 0, 0.3));\n",
              "      fill: #FFFFFF;\n",
              "    }\n",
              "  </style>\n",
              "\n",
              "    <script>\n",
              "      const buttonEl =\n",
              "        document.querySelector('#df-2f476c9e-1d9b-4e39-90b0-6624a34e17a8 button.colab-df-convert');\n",
              "      buttonEl.style.display =\n",
              "        google.colab.kernel.accessAllowed ? 'block' : 'none';\n",
              "\n",
              "      async function convertToInteractive(key) {\n",
              "        const element = document.querySelector('#df-2f476c9e-1d9b-4e39-90b0-6624a34e17a8');\n",
              "        const dataTable =\n",
              "          await google.colab.kernel.invokeFunction('convertToInteractive',\n",
              "                                                    [key], {});\n",
              "        if (!dataTable) return;\n",
              "\n",
              "        const docLinkHtml = 'Like what you see? Visit the ' +\n",
              "          '<a target=\"_blank\" href=https://colab.research.google.com/notebooks/data_table.ipynb>data table notebook</a>'\n",
              "          + ' to learn more about interactive tables.';\n",
              "        element.innerHTML = '';\n",
              "        dataTable['output_type'] = 'display_data';\n",
              "        await google.colab.output.renderOutput(dataTable, element);\n",
              "        const docLink = document.createElement('div');\n",
              "        docLink.innerHTML = docLinkHtml;\n",
              "        element.appendChild(docLink);\n",
              "      }\n",
              "    </script>\n",
              "  </div>\n",
              "\n",
              "    </div>\n",
              "  </div>\n"
            ]
          },
          "metadata": {},
          "execution_count": 14
        }
      ]
    },
    {
      "cell_type": "markdown",
      "source": [
        "## Step 12: Define functions for creating context and answering questions\n"
      ],
      "metadata": {
        "id": "CpJJG4n6VsvD"
      }
    },
    {
      "cell_type": "code",
      "source": [
        "import numpy as np\n",
        "from openai.embeddings_utils import distances_from_embeddings\n",
        "\n",
        "df=pd.read_csv('processed/embeddings.csv', index_col=0)\n",
        "df['embeddings'] = df['embeddings'].apply(eval).apply(np.array)\n",
        "\n",
        "df.head()"
      ],
      "metadata": {
        "id": "BuDzyG-EVvea",
        "colab": {
          "base_uri": "https://localhost:8080/",
          "height": 81
        },
        "outputId": "9604ffaf-5a3a-45e5-efa1-9ff02e365a9c"
      },
      "execution_count": 15,
      "outputs": [
        {
          "output_type": "execute_result",
          "data": {
            "text/plain": [
              "                                                text  n_tokens  \\\n",
              "0  . xAI: Understand the UniverseUnderstand the U...       356   \n",
              "\n",
              "                                          embeddings  \n",
              "0  [0.02359621785581112, -0.026222579181194305, 0...  "
            ],
            "text/html": [
              "\n",
              "  <div id=\"df-9e8e1ec8-99a4-4254-bb84-c4873d42d0a0\" class=\"colab-df-container\">\n",
              "    <div>\n",
              "<style scoped>\n",
              "    .dataframe tbody tr th:only-of-type {\n",
              "        vertical-align: middle;\n",
              "    }\n",
              "\n",
              "    .dataframe tbody tr th {\n",
              "        vertical-align: top;\n",
              "    }\n",
              "\n",
              "    .dataframe thead th {\n",
              "        text-align: right;\n",
              "    }\n",
              "</style>\n",
              "<table border=\"1\" class=\"dataframe\">\n",
              "  <thead>\n",
              "    <tr style=\"text-align: right;\">\n",
              "      <th></th>\n",
              "      <th>text</th>\n",
              "      <th>n_tokens</th>\n",
              "      <th>embeddings</th>\n",
              "    </tr>\n",
              "  </thead>\n",
              "  <tbody>\n",
              "    <tr>\n",
              "      <th>0</th>\n",
              "      <td>. xAI: Understand the UniverseUnderstand the U...</td>\n",
              "      <td>356</td>\n",
              "      <td>[0.02359621785581112, -0.026222579181194305, 0...</td>\n",
              "    </tr>\n",
              "  </tbody>\n",
              "</table>\n",
              "</div>\n",
              "    <div class=\"colab-df-buttons\">\n",
              "\n",
              "  <div class=\"colab-df-container\">\n",
              "    <button class=\"colab-df-convert\" onclick=\"convertToInteractive('df-9e8e1ec8-99a4-4254-bb84-c4873d42d0a0')\"\n",
              "            title=\"Convert this dataframe to an interactive table.\"\n",
              "            style=\"display:none;\">\n",
              "\n",
              "  <svg xmlns=\"http://www.w3.org/2000/svg\" height=\"24px\" viewBox=\"0 -960 960 960\">\n",
              "    <path d=\"M120-120v-720h720v720H120Zm60-500h600v-160H180v160Zm220 220h160v-160H400v160Zm0 220h160v-160H400v160ZM180-400h160v-160H180v160Zm440 0h160v-160H620v160ZM180-180h160v-160H180v160Zm440 0h160v-160H620v160Z\"/>\n",
              "  </svg>\n",
              "    </button>\n",
              "\n",
              "  <style>\n",
              "    .colab-df-container {\n",
              "      display:flex;\n",
              "      gap: 12px;\n",
              "    }\n",
              "\n",
              "    .colab-df-convert {\n",
              "      background-color: #E8F0FE;\n",
              "      border: none;\n",
              "      border-radius: 50%;\n",
              "      cursor: pointer;\n",
              "      display: none;\n",
              "      fill: #1967D2;\n",
              "      height: 32px;\n",
              "      padding: 0 0 0 0;\n",
              "      width: 32px;\n",
              "    }\n",
              "\n",
              "    .colab-df-convert:hover {\n",
              "      background-color: #E2EBFA;\n",
              "      box-shadow: 0px 1px 2px rgba(60, 64, 67, 0.3), 0px 1px 3px 1px rgba(60, 64, 67, 0.15);\n",
              "      fill: #174EA6;\n",
              "    }\n",
              "\n",
              "    .colab-df-buttons div {\n",
              "      margin-bottom: 4px;\n",
              "    }\n",
              "\n",
              "    [theme=dark] .colab-df-convert {\n",
              "      background-color: #3B4455;\n",
              "      fill: #D2E3FC;\n",
              "    }\n",
              "\n",
              "    [theme=dark] .colab-df-convert:hover {\n",
              "      background-color: #434B5C;\n",
              "      box-shadow: 0px 1px 3px 1px rgba(0, 0, 0, 0.15);\n",
              "      filter: drop-shadow(0px 1px 2px rgba(0, 0, 0, 0.3));\n",
              "      fill: #FFFFFF;\n",
              "    }\n",
              "  </style>\n",
              "\n",
              "    <script>\n",
              "      const buttonEl =\n",
              "        document.querySelector('#df-9e8e1ec8-99a4-4254-bb84-c4873d42d0a0 button.colab-df-convert');\n",
              "      buttonEl.style.display =\n",
              "        google.colab.kernel.accessAllowed ? 'block' : 'none';\n",
              "\n",
              "      async function convertToInteractive(key) {\n",
              "        const element = document.querySelector('#df-9e8e1ec8-99a4-4254-bb84-c4873d42d0a0');\n",
              "        const dataTable =\n",
              "          await google.colab.kernel.invokeFunction('convertToInteractive',\n",
              "                                                    [key], {});\n",
              "        if (!dataTable) return;\n",
              "\n",
              "        const docLinkHtml = 'Like what you see? Visit the ' +\n",
              "          '<a target=\"_blank\" href=https://colab.research.google.com/notebooks/data_table.ipynb>data table notebook</a>'\n",
              "          + ' to learn more about interactive tables.';\n",
              "        element.innerHTML = '';\n",
              "        dataTable['output_type'] = 'display_data';\n",
              "        await google.colab.output.renderOutput(dataTable, element);\n",
              "        const docLink = document.createElement('div');\n",
              "        docLink.innerHTML = docLinkHtml;\n",
              "        element.appendChild(docLink);\n",
              "      }\n",
              "    </script>\n",
              "  </div>\n",
              "\n",
              "    </div>\n",
              "  </div>\n"
            ]
          },
          "metadata": {},
          "execution_count": 15
        }
      ]
    },
    {
      "cell_type": "code",
      "source": [
        "def create_context(\n",
        "    question, df, max_len=1800, size=\"ada\"\n",
        "):\n",
        "    \"\"\"\n",
        "    Create a context for a question by finding the most similar context from the dataframe\n",
        "    \"\"\"\n",
        "\n",
        "    # Get the embeddings for the question\n",
        "    q_embeddings = openai.Embedding.create(input=question, engine='text-embedding-ada-002')['data'][0]['embedding']\n",
        "\n",
        "    # Get the distances from the embeddings\n",
        "    df['distances'] = distances_from_embeddings(q_embeddings, df['embeddings'].values, distance_metric='cosine')\n",
        "\n",
        "\n",
        "    returns = []\n",
        "    cur_len = 0\n",
        "\n",
        "    # Sort by distance and add the text to the context until the context is too long\n",
        "    for i, row in df.sort_values('distances', ascending=True).iterrows():\n",
        "\n",
        "        # Add the length of the text to the current length\n",
        "        cur_len += row['n_tokens'] + 4\n",
        "\n",
        "        # If the context is too long, break\n",
        "        if cur_len > max_len:\n",
        "            break\n",
        "\n",
        "        # Else add it to the text that is being returned\n",
        "        returns.append(row[\"text\"])\n",
        "\n",
        "    # Return the context\n",
        "    return \"\\n\\n###\\n\\n\".join(returns)"
      ],
      "metadata": {
        "id": "chaYP2PZfyRJ"
      },
      "execution_count": 16,
      "outputs": []
    },
    {
      "cell_type": "markdown",
      "source": [
        "## Step 13: Answer specific questions using the generated context\n"
      ],
      "metadata": {
        "id": "BlfYRHsLfoEX"
      }
    },
    {
      "cell_type": "code",
      "source": [
        "def answer_question(\n",
        "    df,\n",
        "    model=\"text-davinci-002\",\n",
        "    question=\"Am I allowed to publish model outputs to Twitter, without a human review?\",\n",
        "    max_len=1800,\n",
        "    size=\"ada\",\n",
        "    debug=False,\n",
        "    max_tokens=150,\n",
        "    stop_sequence=None\n",
        "):\n",
        "    \"\"\"\n",
        "    Answer a question based on the most similar context from the dataframe texts\n",
        "    \"\"\"\n",
        "    context = create_context(\n",
        "        question,\n",
        "        df,\n",
        "        max_len=max_len,\n",
        "        size=size,\n",
        "    )\n",
        "    # If debug, print the raw model response\n",
        "    if debug:\n",
        "        print(\"Context:\\n\" + context)\n",
        "        print(\"\\n\\n\")\n",
        "\n",
        "    try:\n",
        "        # Create a completions using the question and context\n",
        "        response = openai.Completion.create(\n",
        "            prompt=f\"Answer the question based on the context below, and if the question can't be answered based on the context, say \\\"I don't know\\\"\\n\\nContext: {context}\\n\\n---\\n\\nQuestion: {question}\\nAnswer:\",\n",
        "            temperature=0,\n",
        "            max_tokens=max_tokens,\n",
        "            top_p=1,\n",
        "            frequency_penalty=0,\n",
        "            presence_penalty=0,\n",
        "            stop=stop_sequence,\n",
        "            model=model,\n",
        "        )\n",
        "        return response[\"choices\"][0][\"text\"].strip()\n",
        "    except Exception as e:\n",
        "        print(e)\n",
        "        return \"\""
      ],
      "metadata": {
        "id": "OFEMbLlyfqNv"
      },
      "execution_count": 17,
      "outputs": []
    },
    {
      "cell_type": "markdown",
      "source": [
        "## Print the answers to specific questions\n"
      ],
      "metadata": {
        "id": "QnZnuyasf89J"
      }
    },
    {
      "cell_type": "code",
      "source": [
        "print(answer_question(df, question=\"what is the salary of Elon Musk\", debug=False))\n",
        "\n",
        "print(answer_question(df, question=\"Who is the CEO of Tesla?\"))"
      ],
      "metadata": {
        "id": "G7J2DcRDf-in",
        "colab": {
          "base_uri": "https://localhost:8080/"
        },
        "outputId": "b1ee8a02-3a8d-4bc0-8bc1-f2891bd8f053"
      },
      "execution_count": 18,
      "outputs": [
        {
          "output_type": "stream",
          "name": "stdout",
          "text": [
            "I don't know\n",
            "Elon Musk is the CEO of Tesla.\n"
          ]
        }
      ]
    }
  ]
}